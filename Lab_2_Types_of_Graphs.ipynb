{
  "nbformat": 4,
  "nbformat_minor": 0,
  "metadata": {
    "colab": {
      "name": "Lab 2: Types of Graphs",
      "provenance": []
    },
    "kernelspec": {
      "name": "python3",
      "display_name": "Python 3"
    }
  },
  "cells": [
    {
      "cell_type": "markdown",
      "metadata": {
        "id": "6sOc4Uyr4U-Z",
        "colab_type": "text"
      },
      "source": [
        "## Graph Types"
      ]
    },
    {
      "cell_type": "markdown",
      "metadata": {
        "id": "0zZdVLAd5CYr",
        "colab_type": "text"
      },
      "source": [
        "### By: Matt Wilson"
      ]
    },
    {
      "cell_type": "markdown",
      "metadata": {
        "id": "g-r6Clq45Hn4",
        "colab_type": "text"
      },
      "source": [
        "### Deviation\n"
      ]
    },
    {
      "cell_type": "markdown",
      "metadata": {
        "id": "2gorxo6E7A0t",
        "colab_type": "text"
      },
      "source": [
        "![alt text](https://raw.githubusercontent.com/bizwillie/SRA268-Spring2020/master/PPQ.png)"
      ]
    },
    {
      "cell_type": "markdown",
      "metadata": {
        "id": "w6bZ_NEi7E3w",
        "colab_type": "text"
      },
      "source": [
        "#### What is this telling us?"
      ]
    },
    {
      "cell_type": "markdown",
      "metadata": {
        "id": "95L-spaC7QHF",
        "colab_type": "text"
      },
      "source": [
        "Within this deviation, I chose to graph points per region of the winning teams, and then continue to break it down even more by dividing the points into the quarters they were scored. Region X is noted by the navy blue color, and is also on the right side of the center line. Region Y is visualized by the orange color to the left of the center line. A pattern that I have noticed from this graph, is that close to 90% of the points for both regions was scored in there first quarter, and on multiple occasions, zero points were scored in the second half by one of the regions."
      ]
    },
    {
      "cell_type": "markdown",
      "metadata": {
        "id": "YgXyXjmz7cDP",
        "colab_type": "text"
      },
      "source": [
        "### Correlation\n"
      ]
    },
    {
      "cell_type": "markdown",
      "metadata": {
        "id": "SGx15rZq7hvt",
        "colab_type": "text"
      },
      "source": [
        "![alt text](https://raw.githubusercontent.com/bizwillie/SRA268-Spring2020/master/Sheet%204.png)"
      ]
    },
    {
      "cell_type": "markdown",
      "metadata": {
        "id": "dljjONNi7jmj",
        "colab_type": "text"
      },
      "source": [
        "#### What is this telling us?"
      ]
    },
    {
      "cell_type": "markdown",
      "metadata": {
        "id": "PwZEZrFB7laG",
        "colab_type": "text"
      },
      "source": [
        "This graph is showing the distribution of the average points the winning team scores in a game by region (W, X, Y, & Z), as well as by year. As shown in the graph, the league average (across all regions) in points per win dropped between 2011 and 2015. Organizing the data this way was most appropriate to show the relationship between the average win points and the year. This will allow someone to easily track each divisions point changes over the last decade, as well as the level of success one region has compared to another (i.e X vs. Y)."
      ]
    },
    {
      "cell_type": "markdown",
      "metadata": {
        "id": "MqUdI-uL7r2s",
        "colab_type": "text"
      },
      "source": [
        "### Ranking\n"
      ]
    },
    {
      "cell_type": "markdown",
      "metadata": {
        "id": "AvlxCOVt7x9F",
        "colab_type": "text"
      },
      "source": [
        "![alt text](https://raw.githubusercontent.com/bizwillie/SRA268-Spring2020/master/Ranking%20Ordered%20Bar.png)"
      ]
    },
    {
      "cell_type": "markdown",
      "metadata": {
        "id": "lCAYtfza7yTq",
        "colab_type": "text"
      },
      "source": [
        "#### What is this telling us?"
      ]
    },
    {
      "cell_type": "markdown",
      "metadata": {
        "id": "MyuciD277ygU",
        "colab_type": "text"
      },
      "source": [
        "Utilizing the standard column to display the ranks of values much more easily, the audience is able to see that region Y has been the winning seed in a playoff round against the other regions over 180 times; making them the most winning region of the four of them. Using a bar graph allows us to see thagt Region Z, as marked in the turqouise color, was the least winning region in the playoffs. All regions are very close in the count of the winning seeds, and for a prospective player or a scout it gives them a decision making tool as to which regions to focus on."
      ]
    },
    {
      "cell_type": "markdown",
      "metadata": {
        "id": "dGDGl8-G7y8Y",
        "colab_type": "text"
      },
      "source": [
        "### Distribution\n"
      ]
    },
    {
      "cell_type": "markdown",
      "metadata": {
        "id": "FB0uV-jy76p9",
        "colab_type": "text"
      },
      "source": [
        "![alt text](https://raw.githubusercontent.com/bizwillie/SRA268-Spring2020/master/Distribution%20Histogram.png)"
      ]
    },
    {
      "cell_type": "markdown",
      "metadata": {
        "id": "_6SOzhrQ76zH",
        "colab_type": "text"
      },
      "source": [
        "#### What is this telling us?"
      ]
    },
    {
      "cell_type": "markdown",
      "metadata": {
        "id": "HBWqsS_g767h",
        "colab_type": "text"
      },
      "source": [
        "This graph is telling us the distrubtion of the average points a winning team scores in each win, and the frequnecy in which that amount of points is scored. As we can see, the distribution of these averages creates a bell-shaped curve, with the most frequent amount of points a winning team scores in a game is 75 points. This histogram is the standard way of showcasing a distribution, but also allows us to identify outliers, such as the 125 points that was scored by a winning team once in a game. An outlier like this will greatly affect the mean of the distribution, but the median, as well as the mode, will stay the same in the graph."
      ]
    },
    {
      "cell_type": "markdown",
      "metadata": {
        "id": "wQsDThk677Fy",
        "colab_type": "text"
      },
      "source": [
        "### Change over Time\n"
      ]
    },
    {
      "cell_type": "markdown",
      "metadata": {
        "id": "Z1j_YLOA7_OK",
        "colab_type": "text"
      },
      "source": [
        "![alt text](https://raw.githubusercontent.com/bizwillie/SRA268-Spring2020/master/Change%20over%20Time.png)"
      ]
    },
    {
      "cell_type": "markdown",
      "metadata": {
        "id": "mpfsmmgi7_Vj",
        "colab_type": "text"
      },
      "source": [
        "#### What is this telling us?"
      ]
    },
    {
      "cell_type": "markdown",
      "metadata": {
        "id": "rYLXoMMO7_di",
        "colab_type": "text"
      },
      "source": [
        "This graph is showing us what number of total amounts of win points the region Y scored across 11 seasons. Using a line graph is the standard way for showing the trends in data across a period of time. In this graph, we see the trends from 2007 to 2017, and are able to easily identify the years in which the Y region was at it's weakest. 2010 and 2015 have the two lowest values and show dramatic dips from the years leading up to the. Following these down years came a rise in the total win points across the entire region. "
      ]
    },
    {
      "cell_type": "markdown",
      "metadata": {
        "id": "lFwiHoE-7_jZ",
        "colab_type": "text"
      },
      "source": [
        "### Magnitude\n"
      ]
    },
    {
      "cell_type": "markdown",
      "metadata": {
        "id": "ICQFnXj78EbF",
        "colab_type": "text"
      },
      "source": [
        "![alt text](https://raw.githubusercontent.com/bizwillie/SRA268-Spring2020/master/Magnitude%20Paired%20Bar.png)"
      ]
    },
    {
      "cell_type": "markdown",
      "metadata": {
        "id": "QGG7XYG88Eii",
        "colab_type": "text"
      },
      "source": [
        "#### What is this telling us?"
      ]
    },
    {
      "cell_type": "markdown",
      "metadata": {
        "id": "VS7uGa0l8Eos",
        "colab_type": "text"
      },
      "source": [
        "This graph is telling us which team's mascot has acquired the most amount of points total; win points and loss points. There are also mascots for teams in different divisions; this graph shows the difference in each region of play. Red being for region W; blue being for region X; orange for region Y; and teal for region Z. This graph also allows statisticians to figure out which mascot is the best and has aquired the most points. This graph was the best for magnitude as it allows the viewer to see the sheer size difference between one mascot and another."
      ]
    },
    {
      "cell_type": "markdown",
      "metadata": {
        "id": "bEKFxP8R8Evk",
        "colab_type": "text"
      },
      "source": [
        "### Part-to-Whole\n"
      ]
    },
    {
      "cell_type": "markdown",
      "metadata": {
        "id": "WFHlcYKV8E35",
        "colab_type": "text"
      },
      "source": [
        "![alt text](https://raw.githubusercontent.com/bizwillie/SRA268-Spring2020/master/Part%20to%20Whole.png)"
      ]
    },
    {
      "cell_type": "markdown",
      "metadata": {
        "id": "PNSd3wlp8UZH",
        "colab_type": "text"
      },
      "source": [
        "#### What is this telling us?"
      ]
    },
    {
      "cell_type": "markdown",
      "metadata": {
        "id": "y9tb_QRA8aqt",
        "colab_type": "text"
      },
      "source": [
        "This pie chart is showing how many points each region has generated total as a part of the total amount of points all teams have scored. As you can see, the point totals are all very close with region Y having a commanding lead by over 1,000 points. As with most pie charts, it is quite difficult to see the major differences in the size of the data; thankfully the labels will do that for us. The pie chart is still one of the easiest and most common ways of displaying the amount of points per reason as a part of the whole amount of points."
      ]
    }
  ]
}