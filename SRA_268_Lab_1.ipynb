{
  "nbformat": 4,
  "nbformat_minor": 0,
  "metadata": {
    "colab": {
      "name": "SRA 268: Lab 1",
      "provenance": []
    },
    "kernelspec": {
      "name": "python3",
      "display_name": "Python 3"
    }
  },
  "cells": [
    {
      "cell_type": "markdown",
      "metadata": {
        "id": "B0_yrLmFbiCe",
        "colab_type": "text"
      },
      "source": [
        "# Title"
      ]
    },
    {
      "cell_type": "markdown",
      "metadata": {
        "id": "SjoLf_qkakhH",
        "colab_type": "text"
      },
      "source": [
        "The Breathing of State College Weather"
      ]
    },
    {
      "cell_type": "markdown",
      "metadata": {
        "id": "du7on1Qbbmx9",
        "colab_type": "text"
      },
      "source": [
        "# Description"
      ]
    },
    {
      "cell_type": "markdown",
      "metadata": {
        "id": "q2Y1VqGlaoNN",
        "colab_type": "text"
      },
      "source": [
        "Within my first Lab, I have chosen to title my report, \"The Breathing of State College Weather.\" I chose this name as my graph will show the fluctuations of the daily high temperatures for each day of the year and allow the audience to develop a clear understanding of weather patterns. An assignment such as this will also be beneficial to meteorologists and weather trackers as it will allow them to study the historical temperatures and make predictions for the future weather within State College. Students at Penn State coould also find this beneficial in planning their routes to class, where they choose to take classes, and what they can expect to wear on any given day."
      ]
    },
    {
      "cell_type": "markdown",
      "metadata": {
        "id": "PyqWeYk_bu5G",
        "colab_type": "text"
      },
      "source": [
        "# Graph"
      ]
    },
    {
      "cell_type": "markdown",
      "metadata": {
        "id": "BY8TeSdYbbGd",
        "colab_type": "text"
      },
      "source": [
        "![image of mario](https://raw.githubusercontent.com/bizwillie/SRA268-Spring2020/master/images/LAB%201%20sketch.jpg)"
      ]
    },
    {
      "cell_type": "markdown",
      "metadata": {
        "id": "747yWowgbyve",
        "colab_type": "text"
      },
      "source": [
        "# Conclusion"
      ]
    },
    {
      "cell_type": "markdown",
      "metadata": {
        "id": "s2_YCj4Lb1sD",
        "colab_type": "text"
      },
      "source": [
        "After creating this graph using Microsoft Paint, I have found that paint is a very difficult tool to use and believe it to be a bit of an annoyance. When creating a finalized version of this graph that better displays the weather fluctuations, it will be much easier to utilize the entirity of the weather data found in the spreadsheet. I still find that my graph is extremely simple for the reader to understand and offers a good visual representation of the data."
      ]
    }
  ]
}