{
  "nbformat": 4,
  "nbformat_minor": 0,
  "metadata": {
    "colab": {
      "name": "TeamProjectVisualization.ipynb",
      "provenance": [],
      "collapsed_sections": []
    },
    "kernelspec": {
      "name": "python3",
      "display_name": "Python 3"
    }
  },
  "cells": [
    {
      "cell_type": "markdown",
      "metadata": {
        "id": "Kw5PZBtl0Ob6",
        "colab_type": "text"
      },
      "source": [
        "# Final Group Project "
      ]
    },
    {
      "cell_type": "markdown",
      "metadata": {
        "id": "iXWAmSVB0Rno",
        "colab_type": "text"
      },
      "source": [
        "Contributors:\n",
        "\n",
        "\n",
        "*   Graham Bordo\n",
        "*   Matt Wilson\n",
        "*   Jason Susnoskie\n",
        "*   Dylan Gesser\n",
        "\n",
        "\n",
        "\n"
      ]
    },
    {
      "cell_type": "markdown",
      "metadata": {
        "id": "WpaW-i5l0ZHn",
        "colab_type": "text"
      },
      "source": [
        "## Background"
      ]
    },
    {
      "cell_type": "markdown",
      "metadata": {
        "id": "E4VKsOvP0eev",
        "colab_type": "text"
      },
      "source": [
        "The Global Terrorism Database, the most comprehensive dataset on terrorist attacks available, defines terrorism as “acts of violence by non-state actors, perpetrated against civilian populations, intended to cause fear, in order to achieve a political objective”. Most people are familiar with the modern definition and can recall specific terrorist attacks in their lifetime. According to Our World in Data, terrorism killed an average of 21,000 people each year and is geographically based in the Middle East, Africa, and South Asia. From 2007 to 2017, the greatest amount of confirmed deaths from terrorism occured in 2014 with 44,190 deaths. Over the last five years there has been a small but steady increase in terrorist deaths in the US. In addition to islamic extremism, right-wing terrorist attacks are the topic of concern in the United States. The University of Maryland’s Global Terrorism Database, showed that right wing inspired acts grew from 6 percent to 35 percent from 2010 to 2016 in the US. The Center for Strategic and International Studies reported that right-wing inspired violence quadrupled in the US between 2016 and 2017. As a group, we wondered how terrorism looked before the right-wing extremsim of today and the islamic extremism of the 2000s. Was terrorism as frequent or even existing in the United States and North America? The dataset chosen contains information on terrorist attacks throughout the world from 1970 to 2013. The animation looks at terrorism in North America from 1970 to 2000. The number of fatalities per year is analyzed in the visualization, presenting a clear trajectory of terrorist attacks from 1970 until the September 11th attacks. "
      ]
    },
    {
      "cell_type": "markdown",
      "metadata": {
        "id": "7d8vfcGufV0_",
        "colab_type": "text"
      },
      "source": [
        "### Goal"
      ]
    },
    {
      "cell_type": "markdown",
      "metadata": {
        "id": "e1jKSGTjfY2H",
        "colab_type": "text"
      },
      "source": [
        "To analyze the number of fatalities of terrorist attacks in the North American countries of Canada, Mexico, and the United States before the 9/11 terror attacks from 1970-2000."
      ]
    },
    {
      "cell_type": "markdown",
      "metadata": {
        "id": "GOxy_TvCfi54",
        "colab_type": "text"
      },
      "source": [
        "### Assumptions"
      ]
    },
    {
      "cell_type": "markdown",
      "metadata": {
        "id": "cw1v_1MMfnAR",
        "colab_type": "text"
      },
      "source": [
        "Insert 10 assumptions for your data model:\n",
        "*   Civilian Casualties \n",
        "*   Deaths \n",
        "*   American Location\n",
        "*   Tourist Location\n",
        "*   Ideology \n",
        "*   Political Objective \n",
        "*   Perpetrator Died During Attack\n",
        "*  Asymmetric Attacks\n",
        "*  Attack was Contained  \n",
        "*  Locations are Symbolic\n",
        "\n",
        "\n"
      ]
    },
    {
      "cell_type": "markdown",
      "metadata": {
        "id": "jKGILpu7gWr6",
        "colab_type": "text"
      },
      "source": [
        "### Data Sources"
      ]
    },
    {
      "cell_type": "markdown",
      "metadata": {
        "id": "uwCao7AtgbNn",
        "colab_type": "text"
      },
      "source": [
        "The data sets that we chose is from the site wordpress and we specifically are looking at the dates from 1970-2000. The data set focuses on the date of the attacks and the number of casualties involved. The data source includes a detailed article featuring many aspects of terorism and the world behind these attacks. The article goes into topics such as the fear that terrorism brings, the most lethal organizations behind attacks, economics of terorrism, and North America’s war on terrorism. When talking about the economics the article goes into the costs for taking care of veterans mental health post combat, as well as, how terrorist attacks affect a country's gross domestic production. When talking about the most lethal organizations of all time the article talks about three groups that come to mind when thinking terroism. These groups are Boko Haram, ISIS, and the Taliban. The article describes the total fatalities these groups brought about and regions they most commonly affect. The darker the region is on the map, the more heavily influenced that nation is by the specific group in terms of the casualties produced. With the introduction of the second source we did not join the data, but used the second source as a wealth of information that helped us to build the visual and come to conclusions about the topic. The second source that we used came from the site our world in data specifically focusing on the terrorism aspect. The first section of the summary on this data that heavily stands out is the focus on showing the trends of terrorism attack numbers as time goes on. The second aspect of this data we focused on was the terrorism deaths globally in order to acheieve a better understanding on the total casualties produced by these groups. "
      ]
    },
    {
      "cell_type": "markdown",
      "metadata": {
        "id": "kDgSdoQUgg2Z",
        "colab_type": "text"
      },
      "source": [
        "#### Sources"
      ]
    },
    {
      "cell_type": "markdown",
      "metadata": {
        "id": "dFzYIi0Agi2_",
        "colab_type": "text"
      },
      "source": [
        "##The Threat of Terrorism Article and Dataset- https://terroristthreat.wordpress.com/\n",
        "##World Terrorism Data - https://ourworldindata.org/terrorism"
      ]
    },
    {
      "cell_type": "markdown",
      "metadata": {
        "id": "qcFak2v7g3jt",
        "colab_type": "text"
      },
      "source": [
        "## Dashboard (5)"
      ]
    },
    {
      "cell_type": "code",
      "metadata": {
        "id": "knG79vNP0Q0u",
        "colab_type": "code",
        "outputId": "6ef8abb7-136c-493d-f126-967152908553",
        "colab": {
          "base_uri": "https://localhost:8080/",
          "height": 844
        }
      },
      "source": [
        "import IPython\n",
        "IPython.display.HTML(\"<div class='tableauPlaceholder' id='viz1588032910629' style='position: relative'><noscript><a href='#'><img alt=' ' src='https:&#47;&#47;public.tableau.com&#47;static&#47;images&#47;3N&#47;3NSFDXTHJ&#47;1_rss.png' style='border: none' /></a></noscript><object class='tableauViz'  style='display:none;'><param name='host_url' value='https%3A%2F%2Fpublic.tableau.com%2F' /> <param name='embed_code_version' value='3' /> <param name='path' value='shared&#47;3NSFDXTHJ' /> <param name='toolbar' value='yes' /><param name='static_image' value='https:&#47;&#47;public.tableau.com&#47;static&#47;images&#47;3N&#47;3NSFDXTHJ&#47;1.png' /> <param name='animate_transition' value='yes' /><param name='display_static_image' value='yes' /><param name='display_spinner' value='yes' /><param name='display_overlay' value='yes' /><param name='display_count' value='yes' /><param name='filter' value='publish=yes' /></object></div>                <script type='text/javascript'>                    var divElement = document.getElementById('viz1588032910629');                    var vizElement = divElement.getElementsByTagName('object')[0];                    vizElement.style.width='1000px';vizElement.style.height='827px';                    var scriptElement = document.createElement('script');                    scriptElement.src = 'https://public.tableau.com/javascripts/api/viz_v1.js';                    vizElement.parentNode.insertBefore(scriptElement, vizElement);                </script>\")"
      ],
      "execution_count": 0,
      "outputs": [
        {
          "output_type": "execute_result",
          "data": {
            "text/html": [
              "<div class='tableauPlaceholder' id='viz1588032910629' style='position: relative'><noscript><a href='#'><img alt=' ' src='https:&#47;&#47;public.tableau.com&#47;static&#47;images&#47;3N&#47;3NSFDXTHJ&#47;1_rss.png' style='border: none' /></a></noscript><object class='tableauViz'  style='display:none;'><param name='host_url' value='https%3A%2F%2Fpublic.tableau.com%2F' /> <param name='embed_code_version' value='3' /> <param name='path' value='shared&#47;3NSFDXTHJ' /> <param name='toolbar' value='yes' /><param name='static_image' value='https:&#47;&#47;public.tableau.com&#47;static&#47;images&#47;3N&#47;3NSFDXTHJ&#47;1.png' /> <param name='animate_transition' value='yes' /><param name='display_static_image' value='yes' /><param name='display_spinner' value='yes' /><param name='display_overlay' value='yes' /><param name='display_count' value='yes' /><param name='filter' value='publish=yes' /></object></div>                <script type='text/javascript'>                    var divElement = document.getElementById('viz1588032910629');                    var vizElement = divElement.getElementsByTagName('object')[0];                    vizElement.style.width='1000px';vizElement.style.height='827px';                    var scriptElement = document.createElement('script');                    scriptElement.src = 'https://public.tableau.com/javascripts/api/viz_v1.js';                    vizElement.parentNode.insertBefore(scriptElement, vizElement);                </script>"
            ],
            "text/plain": [
              "<IPython.core.display.HTML object>"
            ]
          },
          "metadata": {
            "tags": []
          },
          "execution_count": 1
        }
      ]
    },
    {
      "cell_type": "markdown",
      "metadata": {
        "id": "SvWfnlDjnos1",
        "colab_type": "text"
      },
      "source": [
        "## Conclusion"
      ]
    },
    {
      "cell_type": "markdown",
      "metadata": {
        "id": "rfWefr2gnxOG",
        "colab_type": "text"
      },
      "source": [
        "With the data set that we used, we were able to see that these three North American countries were very close in the number of fatalities from the year 1970-2000. The first visualization displays the fatalities of terrorist attacks in North America while the second animation compares the terrorist attack deaths between major regions around the world. The first animation focuses our main question of terrorism fatalities in North America. The second animation compares the statistics of the first visual with other major regions like Europe, the Middle East, South Asia, Russia, and Africa. It appears that over this thirty year period in North America, there were three years in which fatalities soared over 100. We also found that there was a more consistent amount of fatalities in the beginning half of the timeframe that we chose. While the number of fatalities were less compared to the second half of the timeframe it was a more steady trend up until the year 1990. After the year 1990 there were a few spikes in fatalities in which the United States and Mexico both had a greater number of fatalities than they ever had before. This is likely a result of more unconventional types of terrorism being used as the century came to a close. A pre 9/11 world consisted of more conventional types of terrorism such as mass shootings. Towards the end of the 20th century more people had access to resources where they could find instructions on how to make a bomb and terrorist started thinking outside of the box by using cars and and other common items in which you would not typically think could be used for an attack, but that is what made them effective resulting in a greater number of fatalities. Another trend that we realized is that with the exception of the year 1985, Canada was clearly the least prone to a terrorist attack out of the three North American Countries. Upon further research we were able to find that the attack in 1985 in Canada was known as the Air India Attack. This attack was conducted on Kanishka Flight 182 which was blown up in mid-air. 329 people were killed in this attack and it remains the “single worst terrorist attack in Canadian history”. This statement is clearly represented in the data set as well because asides from the year 1985, the red Canadian line is hovering around zero fatalities for the 29 other years. Another interesting fact that we found upon further research was that the spike in terrorism in Mexico in the year 1997 was not as a result of a single attack. It appears that the biggest terrorist attack in Mexico in 1997 was in a church which claimed 45 of the nearly 220 they had for that year. As a group we were looking into reasons why there was a spike of terrorism in this specific year in Mexican history and we found that it was an election year and the Institutional Revolutionary Party won 239 of the 500 seats in the Chamber of Deputies, the first time it had failed to win a majority. We believe the other terrorist attacks could have been politically motivated resulting in the 75% of the other fatalities that were caused that year. With the three countries we selected for the dataset, it was interesting to see how one attack can have more significance because of the number of fatalities than another country's thirty year history combined. Canada’s one major attack surpassed both Mexico and the United States’ thirty year history of terrorist attacks when considering fatalities."
      ]
    },
    {
      "cell_type": "code",
      "metadata": {
        "id": "GiYDwrUYn0k0",
        "colab_type": "code",
        "colab": {}
      },
      "source": [
        ""
      ],
      "execution_count": 0,
      "outputs": []
    }
  ]
}